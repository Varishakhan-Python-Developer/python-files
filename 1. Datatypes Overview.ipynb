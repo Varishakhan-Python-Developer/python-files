{
 "cells": [
  {
   "cell_type": "markdown",
   "id": "1d4cfa71",
   "metadata": {},
   "source": [
    "# Datatype :-\n",
    "> A Datatype represent the type of the data stored in the variable. The stored in the variable is called literal."
   ]
  },
  {
   "cell_type": "markdown",
   "id": "f65baa78",
   "metadata": {},
   "source": [
    "> ### type() : \n",
    "This method is used to find the type of the data that we stored in the variable"
   ]
  },
  {
   "cell_type": "markdown",
   "id": "30e7343b",
   "metadata": {},
   "source": [
    "# Pre-defind datatypes"
   ]
  },
  {
   "cell_type": "markdown",
   "id": "7b4a8859",
   "metadata": {},
   "source": [
    ">1) Numeric Datatype\n"
   ]
  },
  {
   "cell_type": "markdown",
   "id": "f89cf9ea",
   "metadata": {},
   "source": [
    ">2) Sequential Datatype"
   ]
  },
  {
   "cell_type": "markdown",
   "id": "d6f3892f",
   "metadata": {},
   "source": [
    "> 3) set Datatype"
   ]
  },
  {
   "cell_type": "markdown",
   "id": "1638dd8e",
   "metadata": {},
   "source": [
    "## 1) Numeric datatypes"
   ]
  },
  {
   "cell_type": "markdown",
   "id": "a28fa391",
   "metadata": {},
   "source": [
    "1) int ( 1,2,3,4,...65234286524...etc)\n",
    "\n",
    "2) float ( 12.34, 6537.88762556336\n",
    "\n",
    "3) complex ( a+bj, ex: 10+5j )"
   ]
  },
  {
   "cell_type": "markdown",
   "id": "db6372f6",
   "metadata": {},
   "source": [
    "### int (Integers) : \n",
    "    This value is represented by int class. It contains positive or negative whole numbers (without fraction or decimal). In Python there is no limit to how long an integer value can be.\n"
   ]
  },
  {
   "cell_type": "code",
   "execution_count": 1,
   "id": "62d56219",
   "metadata": {},
   "outputs": [
    {
     "name": "stdout",
     "output_type": "stream",
     "text": [
      "1087257239772653738736592\n"
     ]
    }
   ],
   "source": [
    "x=1087257239772653738736572\n",
    "y=20\n",
    "sum=x+y\n",
    "print(sum)"
   ]
  },
  {
   "cell_type": "code",
   "execution_count": 2,
   "id": "fd8fd8f5",
   "metadata": {},
   "outputs": [
    {
     "name": "stdout",
     "output_type": "stream",
     "text": [
      "11\n",
      "a+b\n"
     ]
    }
   ],
   "source": [
    "a=3\n",
    "b=8\n",
    "\n",
    "print(a+b)\n",
    "print(\"a+b\")"
   ]
  },
  {
   "cell_type": "code",
   "execution_count": 4,
   "id": "f8f2105b",
   "metadata": {},
   "outputs": [
    {
     "name": "stdout",
     "output_type": "stream",
     "text": [
      "36\n"
     ]
    }
   ],
   "source": [
    "my_var=12\n",
    "x=24\n",
    "print(my_var+x)"
   ]
  },
  {
   "cell_type": "code",
   "execution_count": 3,
   "id": "ce23fffd",
   "metadata": {},
   "outputs": [
    {
     "name": "stdout",
     "output_type": "stream",
     "text": [
      "36\n"
     ]
    }
   ],
   "source": [
    "my_var=12\n",
    "x=24\n",
    "y=my_var+x\n",
    "print(y)"
   ]
  },
  {
   "cell_type": "markdown",
   "id": "8fbd2cd0",
   "metadata": {},
   "source": [
    "### float :\n",
    "    This value is represented by float class. It is a real number with floating point representation. It is specified by a decimal point. Optionally, the character e or E followed by a positive or negative integer may be appended to specify scientific notation.\n"
   ]
  },
  {
   "cell_type": "code",
   "execution_count": 5,
   "id": "6b1fa3c5",
   "metadata": {},
   "outputs": [
    {
     "name": "stdout",
     "output_type": "stream",
     "text": [
      "20.122999999999998\n"
     ]
    }
   ],
   "source": [
    "f1=10.123\n",
    "f2=10.0\n",
    "sum=f1+f2\n",
    "print(sum)"
   ]
  },
  {
   "cell_type": "code",
   "execution_count": 6,
   "id": "b3682fe4",
   "metadata": {},
   "outputs": [
    {
     "name": "stdout",
     "output_type": "stream",
     "text": [
      "88.982\n"
     ]
    }
   ],
   "source": [
    "a=12\n",
    "f=76.982\n",
    "print(a+f)"
   ]
  },
  {
   "cell_type": "markdown",
   "id": "ab5e5213",
   "metadata": {},
   "source": [
    "### complex (Complex Numbers) : \n",
    "    Complex number is represented by complex class. It is specified as (real part) + (imaginary part)j. For example – 2+3j\n",
    "    1. complex_num=a+bj\n",
    "    2. a=real part\n",
    "    3. b=imaginary part"
   ]
  },
  {
   "cell_type": "code",
   "execution_count": 9,
   "id": "4f8eeff6",
   "metadata": {},
   "outputs": [
    {
     "name": "stdout",
     "output_type": "stream",
     "text": [
      "(5.5+1j)\n"
     ]
    }
   ],
   "source": [
    "c1=2.5+2.5J  # complex\n",
    "c2=3.0-1.5J  # complex\n",
    "c=c1+c2\n",
    "print(c)"
   ]
  },
  {
   "cell_type": "code",
   "execution_count": 7,
   "id": "51e02532",
   "metadata": {},
   "outputs": [],
   "source": [
    "a= 30  # int\n",
    "f=17.0  # float\n",
    "c1=2.5+2.5J  # complex\n",
    "c2=3.0-1.5J  # complex\n",
    "c3=3-10j  # complex \n",
    "c=c1+c2 \n",
    "# print(c)\n",
    "# print(a+c1)\n",
    "# print(f+c3)  # 17.00+7j\n",
    "\n",
    "#Real part=2.5+3.0=5.5\n",
    "#imaginary=2.5-1.5=1"
   ]
  },
  {
   "cell_type": "code",
   "execution_count": null,
   "id": "3eece04d",
   "metadata": {},
   "outputs": [],
   "source": [
    "a=46+6j\n",
    "b=9+5j\n",
    "print(a/b)"
   ]
  },
  {
   "cell_type": "code",
   "execution_count": 12,
   "id": "3f56ae03",
   "metadata": {},
   "outputs": [
    {
     "name": "stdout",
     "output_type": "stream",
     "text": [
      "<class 'float'>\n",
      "10.95\n",
      "<class 'int'>\n",
      "10\n",
      "<class 'complex'>\n",
      "(10+0j)\n"
     ]
    }
   ],
   "source": [
    "a=10.95\n",
    "print(type(a))\n",
    "print(a)\n",
    "\n",
    "a=int(a)\n",
    "print(type(a))\n",
    "print(a)\n",
    "\n",
    "\n",
    "a=complex(a) \n",
    "print(type(a))\n",
    "print(a)"
   ]
  },
  {
   "cell_type": "code",
   "execution_count": 13,
   "id": "a03146e4",
   "metadata": {},
   "outputs": [
    {
     "name": "stdout",
     "output_type": "stream",
     "text": [
      "<class 'complex'>\n",
      "(9+10j)\n"
     ]
    },
    {
     "ename": "TypeError",
     "evalue": "can't convert complex to int",
     "output_type": "error",
     "traceback": [
      "\u001b[1;31m---------------------------------------------------------------------------\u001b[0m",
      "\u001b[1;31mTypeError\u001b[0m                                 Traceback (most recent call last)",
      "\u001b[1;32m~\\AppData\\Local\\Temp\\ipykernel_11592\\467022997.py\u001b[0m in \u001b[0;36m<module>\u001b[1;34m\u001b[0m\n\u001b[0;32m      3\u001b[0m \u001b[0mprint\u001b[0m\u001b[1;33m(\u001b[0m\u001b[0ma\u001b[0m\u001b[1;33m)\u001b[0m\u001b[1;33m\u001b[0m\u001b[1;33m\u001b[0m\u001b[0m\n\u001b[0;32m      4\u001b[0m \u001b[1;33m\u001b[0m\u001b[0m\n\u001b[1;32m----> 5\u001b[1;33m \u001b[0ma\u001b[0m\u001b[1;33m=\u001b[0m\u001b[0mint\u001b[0m\u001b[1;33m(\u001b[0m\u001b[0ma\u001b[0m\u001b[1;33m)\u001b[0m   \u001b[1;31m# it raise an ERROR. Because we c\u001b[0m\u001b[1;33m\u001b[0m\u001b[1;33m\u001b[0m\u001b[0m\n\u001b[0m\u001b[0;32m      6\u001b[0m \u001b[0mprint\u001b[0m\u001b[1;33m(\u001b[0m\u001b[0mtype\u001b[0m\u001b[1;33m(\u001b[0m\u001b[0ma\u001b[0m\u001b[1;33m)\u001b[0m\u001b[1;33m)\u001b[0m\u001b[1;33m\u001b[0m\u001b[1;33m\u001b[0m\u001b[0m\n\u001b[0;32m      7\u001b[0m \u001b[0mprint\u001b[0m\u001b[1;33m(\u001b[0m\u001b[0ma\u001b[0m\u001b[1;33m)\u001b[0m\u001b[1;33m\u001b[0m\u001b[1;33m\u001b[0m\u001b[0m\n",
      "\u001b[1;31mTypeError\u001b[0m: can't convert complex to int"
     ]
    }
   ],
   "source": [
    "a=9+10j \n",
    "print(type(a))\n",
    "print(a)\n",
    "\n",
    "a=int(a)   # it raise an ERROR. Because we c                                                                               \n",
    "print(type(a))\n",
    "print(a)"
   ]
  },
  {
   "cell_type": "code",
   "execution_count": 14,
   "id": "f7687db6",
   "metadata": {},
   "outputs": [
    {
     "name": "stdout",
     "output_type": "stream",
     "text": [
      "<class 'int'>\n",
      "10\n",
      "<class 'float'>\n",
      "10.0\n",
      "<class 'complex'>\n",
      "(10+0j)\n"
     ]
    },
    {
     "ename": "TypeError",
     "evalue": "can't convert complex to float",
     "output_type": "error",
     "traceback": [
      "\u001b[1;31m---------------------------------------------------------------------------\u001b[0m",
      "\u001b[1;31mTypeError\u001b[0m                                 Traceback (most recent call last)",
      "\u001b[1;32m~\\AppData\\Local\\Temp\\ipykernel_11592\\3838644812.py\u001b[0m in \u001b[0;36m<module>\u001b[1;34m\u001b[0m\n\u001b[0;32m     12\u001b[0m \u001b[1;33m\u001b[0m\u001b[0m\n\u001b[0;32m     13\u001b[0m \u001b[1;33m\u001b[0m\u001b[0m\n\u001b[1;32m---> 14\u001b[1;33m \u001b[0ma\u001b[0m\u001b[1;33m=\u001b[0m\u001b[0mfloat\u001b[0m\u001b[1;33m(\u001b[0m\u001b[0ma\u001b[0m\u001b[1;33m)\u001b[0m\u001b[1;33m\u001b[0m\u001b[1;33m\u001b[0m\u001b[0m\n\u001b[0m\u001b[0;32m     15\u001b[0m \u001b[0mprint\u001b[0m\u001b[1;33m(\u001b[0m\u001b[0mtype\u001b[0m\u001b[1;33m(\u001b[0m\u001b[0ma\u001b[0m\u001b[1;33m)\u001b[0m\u001b[1;33m)\u001b[0m\u001b[1;33m\u001b[0m\u001b[1;33m\u001b[0m\u001b[0m\n\u001b[0;32m     16\u001b[0m \u001b[0mprint\u001b[0m\u001b[1;33m(\u001b[0m\u001b[0ma\u001b[0m\u001b[1;33m)\u001b[0m\u001b[1;33m\u001b[0m\u001b[1;33m\u001b[0m\u001b[0m\n",
      "\u001b[1;31mTypeError\u001b[0m: can't convert complex to float"
     ]
    }
   ],
   "source": [
    "a=10\n",
    "print(type(a))\n",
    "print(a)\n",
    "\n",
    "a=float(a)\n",
    "print(type(a))\n",
    "print(a)\n",
    "\n",
    "a=complex(a)\n",
    "print(type(a))\n",
    "print(a)\n",
    "\n",
    "\n",
    "a=float(a)\n",
    "print(type(a))\n",
    "print(a)"
   ]
  },
  {
   "cell_type": "code",
   "execution_count": 41,
   "id": "63d5ce82",
   "metadata": {},
   "outputs": [
    {
     "name": "stdout",
     "output_type": "stream",
     "text": [
      "3\n",
      "6\n"
     ]
    }
   ],
   "source": [
    "x=[1,2,3,4,5,6] # 0 \n",
    "print(x[2])\n",
    "print(len(x))"
   ]
  },
  {
   "cell_type": "code",
   "execution_count": 42,
   "id": "74f2fa77",
   "metadata": {},
   "outputs": [
    {
     "name": "stdout",
     "output_type": "stream",
     "text": [
      "python progarmming language\n",
      "y\n",
      "n\n",
      "python\n",
      "27\n"
     ]
    }
   ],
   "source": [
    "x=\"python progarmming language\"\n",
    "print(x)\n",
    "print(x[1])\n",
    "print(x[5])\n",
    "print(x[0:6])\n",
    "print(len(x))"
   ]
  },
  {
   "cell_type": "code",
   "execution_count": 43,
   "id": "23b6c2f4",
   "metadata": {},
   "outputs": [
    {
     "name": "stdout",
     "output_type": "stream",
     "text": [
      "('apple', 'banana', 'cherry')\n",
      "cherry\n",
      "3\n"
     ]
    }
   ],
   "source": [
    "y=(\"apple\",\"banana\",\"cherry\")\n",
    "print(y)                             # 0\n",
    "print(y[-1])                         # 1\n",
    "print(len(y))"
   ]
  },
  {
   "cell_type": "code",
   "execution_count": 45,
   "id": "3371d30d",
   "metadata": {},
   "outputs": [
    {
     "name": "stdout",
     "output_type": "stream",
     "text": [
      "string"
     ]
    }
   ],
   "source": [
    "for i in \"string\":\n",
    "    print(i,end=\"\")"
   ]
  },
  {
   "cell_type": "code",
   "execution_count": 47,
   "id": "2448a0b2",
   "metadata": {},
   "outputs": [
    {
     "name": "stdout",
     "output_type": "stream",
     "text": [
      "error\n"
     ]
    }
   ],
   "source": [
    "if 100>500:\n",
    "    print(\"hello\")\n",
    "else:\n",
    "    print(\"error\")"
   ]
  },
  {
   "cell_type": "code",
   "execution_count": 48,
   "id": "9e5b82ff",
   "metadata": {},
   "outputs": [
    {
     "name": "stdout",
     "output_type": "stream",
     "text": [
      "h\n"
     ]
    }
   ],
   "source": [
    "if 12>10:\n",
    "    print(\"h\")\n",
    "else:\n",
    "    print(\"python\")\n"
   ]
  },
  {
   "cell_type": "code",
   "execution_count": null,
   "id": "fa57f374",
   "metadata": {},
   "outputs": [],
   "source": [
    "\"\"\"\n",
    "\n",
    "\n",
    "\"\"\"\n",
    "name=\"python\"   # single line\n",
    "name1='python'\n",
    "name2=\"\"\"python\"\"\"\n",
    "name3='''python'''"
   ]
  },
  {
   "cell_type": "code",
   "execution_count": null,
   "id": "b726aed5",
   "metadata": {},
   "outputs": [],
   "source": []
  },
  {
   "cell_type": "markdown",
   "id": "45c4a461",
   "metadata": {},
   "source": [
    "# 2) Sequential Datatypes\n",
    "\n",
    "1) String(str) datatype\n",
    "\n",
    "2) list datatype          # Data structures\n",
    "\n",
    "3) tuple datatype          # Data structures\n",
    "\n",
    "4) dictionaray datatype     # Data structures"
   ]
  },
  {
   "cell_type": "markdown",
   "id": "b1898ccc",
   "metadata": {},
   "source": [
    "### 1. str (String) : \n",
    "    String is a group of characters enclosed in between single/double/triple quotes. ex: \"Python\" OR 'Python' OR \"\"\"Python\"\"\" OR '''Python'''"
   ]
  },
  {
   "cell_type": "code",
   "execution_count": 15,
   "id": "aac3593d",
   "metadata": {},
   "outputs": [
    {
     "name": "stdout",
     "output_type": "stream",
     "text": [
      "Python\n",
      "<class 'str'>\n"
     ]
    }
   ],
   "source": [
    "My_String=\"Python\"\n",
    "print(My_String)\n",
    "print(type(My_String))"
   ]
  },
  {
   "cell_type": "code",
   "execution_count": null,
   "id": "e7f945fd",
   "metadata": {},
   "outputs": [],
   "source": [
    "name='python'\n",
    "print(name)    # There we are printing the value of the variable \"name\"\n",
    "print(\"name\")  # There we are printing the string \"name\"\n",
    "print(\"aarthi\")"
   ]
  },
  {
   "cell_type": "code",
   "execution_count": null,
   "id": "8d65df3e",
   "metadata": {},
   "outputs": [],
   "source": [
    "a=\"hello \"\n",
    "b=\"world \"\n",
    "b*3\n",
    "print(a)\n",
    "print(b)"
   ]
  },
  {
   "cell_type": "code",
   "execution_count": null,
   "id": "6b89c66b",
   "metadata": {},
   "outputs": [],
   "source": [
    "print(\"Hello \"+ \"World\")    # concating the strings\n",
    "print(\"apple \" + \" car\" + \" pen\")\n",
    "print(\"Python\"*6)\n",
    "print(12*2)\n",
    "print(\"division\"*12)\n",
    "print(12+1+2)"
   ]
  },
  {
   "cell_type": "code",
   "execution_count": null,
   "id": "36c8bbed",
   "metadata": {},
   "outputs": [],
   "source": [
    "12+12\n"
   ]
  },
  {
   "cell_type": "code",
   "execution_count": 17,
   "id": "90a0893c",
   "metadata": {},
   "outputs": [
    {
     "data": {
      "text/plain": [
       "12"
      ]
     },
     "execution_count": 17,
     "metadata": {},
     "output_type": "execute_result"
    }
   ],
   "source": [
    "x=12\n",
    "x"
   ]
  },
  {
   "cell_type": "code",
   "execution_count": 18,
   "id": "113d3577",
   "metadata": {},
   "outputs": [
    {
     "data": {
      "text/plain": [
       "'python'"
      ]
     },
     "execution_count": 18,
     "metadata": {},
     "output_type": "execute_result"
    }
   ],
   "source": [
    "y=\"python\"\n",
    "y"
   ]
  },
  {
   "cell_type": "code",
   "execution_count": 19,
   "id": "0c235fb9",
   "metadata": {},
   "outputs": [
    {
     "name": "stdout",
     "output_type": "stream",
     "text": [
      "python\n"
     ]
    }
   ],
   "source": [
    "y=\"python\"\n",
    "print(y)"
   ]
  },
  {
   "cell_type": "code",
   "execution_count": 20,
   "id": "5945f984",
   "metadata": {},
   "outputs": [
    {
     "data": {
      "text/plain": [
       "22"
      ]
     },
     "execution_count": 20,
     "metadata": {},
     "output_type": "execute_result"
    }
   ],
   "source": [
    "12+10"
   ]
  },
  {
   "cell_type": "code",
   "execution_count": 21,
   "id": "37a394f5",
   "metadata": {},
   "outputs": [
    {
     "data": {
      "text/plain": [
       "9"
      ]
     },
     "execution_count": 21,
     "metadata": {},
     "output_type": "execute_result"
    }
   ],
   "source": [
    "12-3"
   ]
  },
  {
   "cell_type": "code",
   "execution_count": null,
   "id": "24416fb1",
   "metadata": {},
   "outputs": [],
   "source": []
  },
  {
   "cell_type": "code",
   "execution_count": null,
   "id": "c01f723c",
   "metadata": {},
   "outputs": [],
   "source": []
  },
  {
   "cell_type": "code",
   "execution_count": null,
   "id": "ff102b2f",
   "metadata": {},
   "outputs": [],
   "source": [
    "12+12*2"
   ]
  },
  {
   "cell_type": "code",
   "execution_count": null,
   "id": "2c222289",
   "metadata": {},
   "outputs": [],
   "source": [
    "12*2+12"
   ]
  },
  {
   "cell_type": "code",
   "execution_count": 16,
   "id": "cc20cc87",
   "metadata": {},
   "outputs": [
    {
     "data": {
      "text/plain": [
       "5"
      ]
     },
     "execution_count": 16,
     "metadata": {},
     "output_type": "execute_result"
    }
   ],
   "source": [
    "2+3"
   ]
  },
  {
   "cell_type": "markdown",
   "id": "f9f352da",
   "metadata": {},
   "source": [
    "####  Accessing the elements or a part of the string from the string :\n",
    "    We can access the elements of the string by using the index. and we can use| the slicing operation to access the sub string."
   ]
  },
  {
   "cell_type": "code",
   "execution_count": 44,
   "id": "92a56585",
   "metadata": {},
   "outputs": [
    {
     "name": "stdout",
     "output_type": "stream",
     "text": [
      "ABCDEFGHIJKL\n",
      "BCDEFGHIJKLMNOPQR\n",
      "DF\n",
      "BDFHJLNPRTVXZ\n",
      "ABCDEFGHIJKLMNOPQRSTUVWXY\n",
      "ABCDEFGHIJKLMNOPQRSTUVWXYZ\n",
      "ADGJMPSVY\n",
      "BFJNRV\n"
     ]
    }
   ],
   "source": [
    "s=\"ABCDEFGHIJKLMNOPQRSTUVWXYZ\"\n",
    "print(s[0:12])\n",
    "print(s[1:18])\n",
    "print(s[3:7:2]) \n",
    "print(s[1:27:2])\n",
    "# behknqtwz\n",
    "print(s[0:25])\n",
    "print(s[0:26])\n",
    "print(s[0:26:3])\n",
    "print(s[1:24:4])  # bfjnrvz"
   ]
  },
  {
   "cell_type": "code",
   "execution_count": 35,
   "id": "a2765eaf",
   "metadata": {},
   "outputs": [
    {
     "name": "stdout",
     "output_type": "stream",
     "text": [
      "or\n",
      "rrm\n",
      "gam\n",
      "pormi\n"
     ]
    }
   ],
   "source": [
    "x=\"programming\"\n",
    "print(x[2:5:2])\n",
    "print(x[1:8:3])\n",
    "print(x[3:9:2])\n",
    "print(x[0:9:2])"
   ]
  },
  {
   "cell_type": "code",
   "execution_count": 34,
   "id": "3529750c",
   "metadata": {
    "scrolled": true
   },
   "outputs": [],
   "source": [
    "a=\"python\"\n",
    "# print(len(a))\n",
    "# print(a[2])         \n",
    "# print(a[4])\n",
    "# print(a[-1])\n",
    "# print(a[-6])\n",
    "# print(a[0:1])\n",
    "# print(a[1:3])\n",
    "# print(a[0:3])\n",
    "# print(a[4])\n",
    " \n",
    "# print(a[1:4])\n",
    "\n",
    "# print(a[0:5])\n",
    "#print(a[-1:5])\n",
    "#print(a[-1:-5])\n"
   ]
  },
  {
   "cell_type": "code",
   "execution_count": 43,
   "id": "a3b803d0",
   "metadata": {},
   "outputs": [
    {
     "name": "stdout",
     "output_type": "stream",
     "text": [
      "1) \n",
      "2) com\n",
      "3) lc\n",
      "4) wel\n",
      "5) welc\n",
      "6) welcome\n",
      "7 \n"
     ]
    }
   ],
   "source": [
    "a=\"welcome\"\n",
    "print(\"1)\",a[-1:-4]) # error\n",
    "print(\"2)\",a[-4:-1])\n",
    "\n",
    "\n",
    "\n",
    "print(\"3)\",a[-5:-3])\n",
    "print(\"4)\",a[:3])\n",
    "print(\"5)\",a[:-3])\n",
    "print(\"6)\",a[::])\n",
    "print(\"7)\",a[:-7])"
   ]
  },
  {
   "cell_type": "code",
   "execution_count": 22,
   "id": "eff32727",
   "metadata": {},
   "outputs": [
    {
     "name": "stdout",
     "output_type": "stream",
     "text": [
      "Pto\n",
      "ty\n"
     ]
    }
   ],
   "source": [
    "              #  s[start_value : stop_value : ]\n",
    "s=\"Python\"\n",
    "#  print(\"Length of the string is :\",len(s)) # To get the length of a string, use the len() function.\n",
    "# print(s[2]) \n",
    "# print(s[0:4])step_value\n",
    "#print(s[2:6])\n",
    "# print(s[2:1000])\n",
    "# print(s[0:5:1])  # it going to print 0 - 4th index\n",
    "print(s[0:5:2])\n",
    "print(s[2:0:-1])\n",
    "#print(s[2:5:0])  # ERROR slice step cannot be zero\n",
    "\n",
    "#print(s[::-1])\n",
    "# print(s[::])\n",
    "#print(s[-4:-5:-1])"
   ]
  },
  {
   "cell_type": "code",
   "execution_count": 10,
   "id": "bacad487",
   "metadata": {},
   "outputs": [
    {
     "name": "stdout",
     "output_type": "stream",
     "text": [
      "KIGE\n"
     ]
    }
   ],
   "source": [
    "# Slicing operation on string\n",
    "\n",
    "s=\"ABCDEFGHIJKLMNOPQRSTUVWXYZ\"\n",
    "# print(s)\n",
    "# print(len(s))\n",
    "# print(s[9])\n",
    "# print(s[3:10:2])  # s[start_value : stop_value : step_value]\n",
    "# print(s[::2])\n",
    "# print(s[:100000])\n",
    "# print(s[2:8:0])  # ERROR\n",
    "# print(s[::-1])\n",
    "# print(s[10:2:-2])\n",
    "# print(s[1:12:-2])"
   ]
  },
  {
   "cell_type": "code",
   "execution_count": null,
   "id": "3031d986",
   "metadata": {},
   "outputs": [],
   "source": [
    "s=\"ABCDEFGHIJKLMNOPQRSTUVWXYZ\"\n",
    "print(s)\n",
    "# print(s[0::1])\n",
    "# print(s[0:10:])\n",
    "# print(s[2:10:-2])\n",
    "# print(s[2:16:3])\n",
    "# print(s[-3:18:1])\n",
    "# print(s[-25:0:])\n",
    "#print(s[2:16:0])"
   ]
  },
  {
   "cell_type": "code",
   "execution_count": null,
   "id": "8896d740",
   "metadata": {
    "scrolled": true
   },
   "outputs": [],
   "source": [
    "# s=\"Python programming\"\n",
    "# print(s[-4:-1:-1]) #mg\n",
    "# print(s)\n",
    "# print(len(s))\n",
    "# print(s[1:4])\n",
    "# print(s[1:14:2])\n",
    "# print(s[4:16:5])  \n",
    "# print(s[3:6:1]) \n",
    "# print(s[5:])\n",
    "# print(s[5])\n",
    "# print(s[-3])"
   ]
  },
  {
   "cell_type": "code",
   "execution_count": null,
   "id": "6684b820",
   "metadata": {},
   "outputs": [],
   "source": [
    "s=\"ABCDEFGHIJKLMNOPQRSTUVWXYZ.\"\n",
    "print(s)\n",
    "print(s[::])\n",
    "print(s[::2])\n",
    "print(s[::-1])\n",
    "print(s[:10:4])\n",
    "print(s[1:12])\n",
    "print(s[1:12:1])\n",
    "print(s[1:12:3])\n",
    "print(s[::-3])\n",
    "print(s[:-20:-3])\n",
    "\n"
   ]
  },
  {
   "cell_type": "markdown",
   "id": "f006e7fe",
   "metadata": {},
   "source": [
    "## 2. list Datatype( Mutable )"
   ]
  },
  {
   "cell_type": "markdown",
   "id": "6f7af75a",
   "metadata": {},
   "source": [
    "### Definition:-\n",
    "\n",
    "A list is a ordered collection of elements of different datatypes,enclosed within the square brachets and separeted by the cammas\n",
    "\n",
    "1. we can access the elements from the list by using the index number\n",
    "\n",
    "2.List items are indexed and you can access them by referring to the index number:"
   ]
  },
  {
   "cell_type": "code",
   "execution_count": null,
   "id": "2a16e25b",
   "metadata": {},
   "outputs": [],
   "source": []
  },
  {
   "cell_type": "code",
   "execution_count": null,
   "id": "3134f9cd",
   "metadata": {},
   "outputs": [],
   "source": [
    "# Defining the list   # List items are ordered, changeable, and allow duplicate values.\n",
    "My_list = [\"Mathematics\",1729,9,10,17.34]\n",
    "\n",
    "# Displaying the list\n",
    "print(My_list)\n",
    "\n",
    "# Displaying the datatype of My_list\n",
    "print(type(My_list))\n"
   ]
  },
  {
   "cell_type": "code",
   "execution_count": null,
   "id": "1536c43f",
   "metadata": {},
   "outputs": [],
   "source": []
  },
  {
   "cell_type": "code",
   "execution_count": null,
   "id": "e61fe891",
   "metadata": {},
   "outputs": [],
   "source": []
  },
  {
   "cell_type": "code",
   "execution_count": 63,
   "id": "afb5c2e1",
   "metadata": {},
   "outputs": [
    {
     "name": "stdout",
     "output_type": "stream",
     "text": [
      "[1, 2, 3, 4, 5, 6, 7, 'hi', 'hello', 11, 12, 13, 14, 15]\n",
      "2\n",
      "7\n",
      "[2, 3, 4, 5]\n",
      "[1, 2, 3, 4, 5, 6, 7, 'hi']\n",
      "[1, 2, 3, 4, 5, 6, 7, 'hi', 'hello']\n",
      "[2, 4, 6, 'hi']\n",
      "[1, 3, 5, 7, 'hello']\n",
      "[15, 14, 13, 12, 11, 'hello', 'hi', 7, 6, 5, 4, 3, 2, 1]\n",
      "[15]\n",
      "14\n",
      "[14, 15]\n",
      "[13, 14, 15]\n",
      "12\n",
      "[12, 13, 14, 15]\n",
      "[11, 12, 13, 14]\n",
      "[]\n",
      "[6, 7, 'hi', 'hello', 11, 12, 13, 14, 15]\n"
     ]
    }
   ],
   "source": [
    "x=[1,2,3,4,5,6,7,\"hi\",\"hello\",11,12,13,14,15]\n",
    "print(x)\n",
    "print(x[1])\n",
    "print(x[6])\n",
    "print(x[1:5])\n",
    "print(x[0:8])\n",
    "print(x[0:9])\n",
    "print(x[1:9:2])\n",
    "print(x[0:10:2])\n",
    "print(x[::-1])\n",
    "print(x[-1::])\n",
    "print(x[-2])\n",
    "print(x[-2::])\n",
    "print(x[-3::])\n",
    "print(x[-4])\n",
    "print(x[-4::])\n",
    "print(x[-5:-1])\n",
    "print(x[-8:-2:-1])\n",
    "print(x[-9::1])\n"
   ]
  },
  {
   "cell_type": "markdown",
   "id": "883671e8",
   "metadata": {},
   "source": [
    "> ### We can us the for loop to display the list elements "
   ]
  },
  {
   "cell_type": "code",
   "execution_count": 24,
   "id": "1a99a036",
   "metadata": {},
   "outputs": [
    {
     "name": "stdout",
     "output_type": "stream",
     "text": [
      "Mathematics\n",
      "1729\n",
      "9\n",
      "10\n",
      "17.34\n",
      "['Mathematics', 1729, 9, 10, 17.34]\n"
     ]
    }
   ],
   "source": [
    "My_list = [\"Mathematics\",1729,9,10,17.34]\n",
    "\n",
    "# Displaying the elements using the for loop\n",
    "for i in My_list:\n",
    "    print(i)\n",
    "print(My_list)"
   ]
  },
  {
   "cell_type": "markdown",
   "id": "9423bcd6",
   "metadata": {},
   "source": [
    "> ### We can access the list elements with indexing "
   ]
  },
  {
   "cell_type": "code",
   "execution_count": null,
   "id": "bdcb7eb6",
   "metadata": {
    "scrolled": true
   },
   "outputs": [],
   "source": [
    "My_list = [\"Mathematics\",1729,9,10,17.34]\n",
    "\n",
    "# Accessing the elements with index number,By forward direction which is ingeneral defined as (0 to n-1),where n is length of list\n",
    "print(My_list[0])\n",
    "print(My_list[1])\n",
    "print(My_list[2])\n",
    "print(My_list[3])\n",
    "print(My_list[4])\n",
    "\n"
   ]
  },
  {
   "cell_type": "code",
   "execution_count": null,
   "id": "ed781dfd",
   "metadata": {},
   "outputs": [],
   "source": [
    "My_list = [\"Mathematics\",1729,9,10,17.34]\n",
    "print(len(My_list))\n",
    "\n",
    "# Accessing the elements with index number,By dackward direction which is ingeneral defined as (-1 to -n),where n is length of list\n",
    "print(My_list[-1])\n",
    "print(My_list[-2])\n",
    "print(My_list[-3])\n",
    "print(My_list[-4])\n",
    "print(My_list[-5])"
   ]
  },
  {
   "cell_type": "markdown",
   "id": "33eb845d",
   "metadata": {},
   "source": [
    "> ### If we try to access the elements from the out of the list length, then it will raise an ERROR"
   ]
  },
  {
   "cell_type": "code",
   "execution_count": null,
   "id": "e3399d76",
   "metadata": {
    "scrolled": true
   },
   "outputs": [],
   "source": [
    "My_list = [\"Mathematics\",1729,9,10,17.34]\n",
    "\n",
    "\"\"\"\n",
    "\n",
    "In the above list we have only 5 elements which are index from the 0 to 4.\n",
    "If we try to access the element from the index number morethan the 4, it will raise an ERROR \n",
    "\n",
    "\"\"\"\n",
    "print(\"List length is :\",len(My_list))\n",
    "\n",
    "print(My_list[6])\n",
    "print(My_list[5])"
   ]
  },
  {
   "cell_type": "markdown",
   "id": "e8ee4e55",
   "metadata": {},
   "source": [
    "> ### If a list contain another list then it is know as \"NESTED LIST\" "
   ]
  },
  {
   "cell_type": "code",
   "execution_count": null,
   "id": "b93f2eae",
   "metadata": {},
   "outputs": [],
   "source": [
    "My_list = [\"Mathematics\",1729,9,10,17.34,[1,2,3,4,\"a\",\"Apple\",22.21]]\n",
    "\n",
    "# Accesssing the nested list from main list\n",
    "print(My_list[5])   # here we just extracting the inner list "
   ]
  },
  {
   "cell_type": "markdown",
   "id": "e2c7acf5",
   "metadata": {},
   "source": [
    "    Now, if we want to extrat the \"Apple\" from the \"My_list\""
   ]
  },
  {
   "cell_type": "code",
   "execution_count": null,
   "id": "3e3d67ba",
   "metadata": {},
   "outputs": [],
   "source": [
    "My_list = [\"Mathematics\",1729,9,10,17.34,[1,2,3,4,\"a\",\"Apple\",22.21]]\n",
    "\n",
    "print(My_list[5][5])  "
   ]
  },
  {
   "cell_type": "markdown",
   "id": "3f10db79",
   "metadata": {},
   "source": [
    "> ### Basic list methods"
   ]
  },
  {
   "cell_type": "code",
   "execution_count": null,
   "id": "0e69efed",
   "metadata": {},
   "outputs": [],
   "source": [
    "l=[1,2,3,4]\n",
    "print(l)\n",
    "\n",
    "l.extend([\"a\",\"b\"])\n",
    "print(l)\n",
    "\n",
    "l.pop(2)\n",
    "print(l)\n",
    "\n",
    "l.pop()\n",
    "print(l)\n",
    "\n",
    "l.remove(2)\n",
    "print(l)\n",
    "\n",
    "l.clear()\n",
    "print(l)"
   ]
  },
  {
   "cell_type": "code",
   "execution_count": null,
   "id": "093212e2",
   "metadata": {},
   "outputs": [],
   "source": []
  },
  {
   "cell_type": "code",
   "execution_count": null,
   "id": "629f5394",
   "metadata": {},
   "outputs": [],
   "source": [
    "l=[1,2,3,4]\n",
    "print(l)\n",
    "\n",
    "# Finding the length of the list\n",
    "print(len(l))\n",
    "\n",
    "# adding new element to the list at the end\n",
    "l.append(\"Python\")\n",
    "print(l)\n",
    "\n",
    "# adding a eliment at index\n",
    "l.insert(2,4.3)\n",
    "print(l)\n",
    "\n",
    "# deleting a specified element\n",
    "l.remove(\"Python\")\n",
    "print(l)\n",
    "\n",
    "# deleting element from a specified index\n",
    "l.pop(1)\n",
    "print(l)\n",
    "\n",
    "l.pop()  # delet the element from the last index\n",
    "print(l)\n",
    "\n",
    "m=[\"a\",\"b\",\"c\",\"d\"]\n",
    "\n",
    "l.extend(m)\n",
    "print(l)\n",
    "\n",
    "m.extend(l)\n",
    "print(m)"
   ]
  },
  {
   "cell_type": "markdown",
   "id": "c7102b4d",
   "metadata": {},
   "source": [
    "## 3. tuple datatype ( immutable )"
   ]
  },
  {
   "cell_type": "markdown",
   "id": "7345e21d",
   "metadata": {},
   "source": [
    "### Definition:-\n",
    "\n",
    "    A tuple is a ordered collection of elements of different datatypes,enclosed within the paranthesis brachets and separeted by the cammas"
   ]
  },
  {
   "cell_type": "code",
   "execution_count": null,
   "id": "820d1b6b",
   "metadata": {},
   "outputs": [],
   "source": [
    "t=(1,2,3,4,23.8762,\"Python\")\n",
    "print(t)"
   ]
  },
  {
   "cell_type": "code",
   "execution_count": null,
   "id": "32b0a3b8",
   "metadata": {
    "scrolled": true
   },
   "outputs": [],
   "source": [
    "t=(1,2,3,4,23.8762,\"Python\")\n",
    "print(len(t))\n",
    "print(t.index(\"Python\"))\n",
    "print(t.count(7))\n",
    "t.append(7)  # Error"
   ]
  },
  {
   "cell_type": "markdown",
   "id": "77fb6c70",
   "metadata": {},
   "source": [
    ">> ## The main difference between list and tuple is, list is mutable and tuple is immutable."
   ]
  },
  {
   "cell_type": "markdown",
   "id": "9654ff8a",
   "metadata": {},
   "source": [
    "## 4. Dictionary Datatype"
   ]
  },
  {
   "cell_type": "markdown",
   "id": "466c5a69",
   "metadata": {},
   "source": [
    "## Definition:-\n",
    "A Dictionary is a collection of Key and Value Pair\n",
    "\n",
    "Ex :    \n",
    "    dictionary = {key1:value1 , key2:value2 , key3:value3 .... etc}\n",
    "    \n",
    "We have to access the elements of the dictionary with key name"
   ]
  },
  {
   "cell_type": "code",
   "execution_count": null,
   "id": "a72c487c",
   "metadata": {},
   "outputs": [],
   "source": [
    "# Defining th dictionary\n",
    "d={\"programming\":\"Python\",\"version\":3,1:\"a\",2:\"b\",\"c\":3,\"list\":[1,2,3,4]}\n",
    "\n",
    "# Accessing the value with key\n",
    "print(d[\"programming\"])\n",
    "print(d[\"version\"])\n",
    "print(d[1])\n",
    "print(d[\"list\"][3])\n",
    "\n",
    "# Basic dictionary methods\n",
    "print(d.keys())        # returns the key names only\n",
    "print(d.values())      # returns the values only\n",
    "print(d.items())       # return the key and values in tuples as a list"
   ]
  },
  {
   "cell_type": "code",
   "execution_count": null,
   "id": "b682cb52",
   "metadata": {},
   "outputs": [],
   "source": [
    "d={\"Mr.A\":99,\"Mr.B\":98,1:\"A\",2:3}\n",
    "print(d[\"Mr.B\"])"
   ]
  },
  {
   "cell_type": "code",
   "execution_count": null,
   "id": "eaba3a3d",
   "metadata": {
    "scrolled": true
   },
   "outputs": [],
   "source": [
    "d = {\"name\":\"Python\",\"version\":3,1:1729,\"a\":1,\"list\":[1,2,3,4,[5,4,3,2]],\"dict\":{1:\"a\",2:\"b\"}}\n",
    "#print(d)\n",
    "print(d[\"version\"])\n",
    "print(d[\"list\"])\n",
    "print(d[\"dict\"])\n",
    "print(d[\"list\"][4][2])\n",
    "\n",
    "print(d[\"dict\"][2])\n",
    "# extracting the keys from the dictionary\n",
    "print(d.keys())\n",
    "\n",
    "# extracting the values from the dictionary\n",
    "print(d.values())\n",
    "\n",
    "print(d.items())\n"
   ]
  },
  {
   "cell_type": "markdown",
   "id": "564f075f",
   "metadata": {},
   "source": [
    "> ### Displaying the dictionary with a for loop"
   ]
  },
  {
   "cell_type": "code",
   "execution_count": null,
   "id": "9ec52857",
   "metadata": {},
   "outputs": [],
   "source": [
    "d = {\"name\":\"Python\",\"version\":3,1:1729,\"a\":1,\"list\":[1,2,3,4,[5,4,3,2]],\"dict\":{1:\"a\",2:\"b\"}}\n",
    "for k,v in d.items():\n",
    "    print(k,\" : \",v)"
   ]
  },
  {
   "cell_type": "markdown",
   "id": "66c95676",
   "metadata": {},
   "source": [
    "## 3) set Datatype"
   ]
  },
  {
   "cell_type": "markdown",
   "id": "99739bfe",
   "metadata": {},
   "source": [
    "    A set is unordered collection of the elements. ( unordered elemnts in the set is not maintain the order. And, it is a mutable type."
   ]
  },
  {
   "cell_type": "markdown",
   "id": "e9219887",
   "metadata": {},
   "source": [
    "# Boolean Datatype ( True,False )"
   ]
  },
  {
   "cell_type": "markdown",
   "id": "ed2f6e27",
   "metadata": {},
   "source": [
    "    \"True\" and \"False\" is know as the Boolean datatypes. To Know the boolean value of the some object we have a method \"bool()\" it return the \"True\" OR \"False\""
   ]
  },
  {
   "cell_type": "code",
   "execution_count": null,
   "id": "c5159451",
   "metadata": {},
   "outputs": [],
   "source": [
    "print(bool(0))"
   ]
  },
  {
   "cell_type": "code",
   "execution_count": null,
   "id": "77df5357",
   "metadata": {},
   "outputs": [],
   "source": [
    "print(bool(1))"
   ]
  },
  {
   "cell_type": "code",
   "execution_count": null,
   "id": "804cc22c",
   "metadata": {},
   "outputs": [],
   "source": [
    "print(bool([]))"
   ]
  },
  {
   "cell_type": "code",
   "execution_count": null,
   "id": "af4ac26b",
   "metadata": {},
   "outputs": [],
   "source": [
    "print(bool([1,2]))"
   ]
  },
  {
   "cell_type": "code",
   "execution_count": null,
   "id": "1d1a8c35",
   "metadata": {},
   "outputs": [],
   "source": [
    "10<23"
   ]
  },
  {
   "cell_type": "code",
   "execution_count": null,
   "id": "712bbc95",
   "metadata": {},
   "outputs": [],
   "source": [
    "print(21>3)"
   ]
  },
  {
   "cell_type": "code",
   "execution_count": null,
   "id": "f37b0162",
   "metadata": {},
   "outputs": [],
   "source": [
    "print(bool(\" \"))"
   ]
  },
  {
   "cell_type": "code",
   "execution_count": null,
   "id": "5597aae0",
   "metadata": {},
   "outputs": [],
   "source": [
    "print(bool(\"string\"))"
   ]
  }
 ],
 "metadata": {
  "kernelspec": {
   "display_name": "Python 3 (ipykernel)",
   "language": "python",
   "name": "python3"
  },
  "language_info": {
   "codemirror_mode": {
    "name": "ipython",
    "version": 3
   },
   "file_extension": ".py",
   "mimetype": "text/x-python",
   "name": "python",
   "nbconvert_exporter": "python",
   "pygments_lexer": "ipython3",
   "version": "3.9.13"
  }
 },
 "nbformat": 4,
 "nbformat_minor": 5
}
